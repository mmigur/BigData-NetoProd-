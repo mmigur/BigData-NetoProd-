{
 "cells": [
  {
   "cell_type": "code",
   "execution_count": 3,
   "id": "b2a63f49",
   "metadata": {},
   "outputs": [],
   "source": [
    "import pyspark\n",
    "from pyspark.ml import Pipeline\n",
    "from pyspark.sql import SparkSession\n",
    "from pyspark.ml.feature import VectorAssembler\n",
    "from pyspark.ml.classification import LogisticRegression\n",
    "from pyspark.ml.evaluation import MulticlassClassificationEvaluator"
   ]
  },
  {
   "cell_type": "code",
   "execution_count": 4,
   "id": "734cdcdd",
   "metadata": {},
   "outputs": [
    {
     "name": "stderr",
     "output_type": "stream",
     "text": [
      "Setting default log level to \"WARN\".\n",
      "To adjust logging level use sc.setLogLevel(newLevel). For SparkR, use setLogLevel(newLevel).\n"
     ]
    },
    {
     "name": "stdout",
     "output_type": "stream",
     "text": [
      "23/02/21 01:45:04 WARN NativeCodeLoader: Unable to load native-hadoop library for your platform... using builtin-java classes where applicable\n",
      "23/02/21 01:45:05 WARN Utils: Service 'SparkUI' could not bind on port 4040. Attempting port 4041.\n"
     ]
    }
   ],
   "source": [
    "spark = SparkSession.builder.master('local[*]').getOrCreate()\n",
    "sc = spark.sparkContext"
   ]
  },
  {
   "cell_type": "markdown",
   "id": "8e4e27ac",
   "metadata": {},
   "source": [
    "Обучите модель классификации для цветков Iris.\n",
    "Примерная последовательность действий:\n",
    "\n",
    "* 1) - Взять данные.\n",
    "* 2) - Загрузить в PySpark.\n",
    "* 3) -При помощи VectorAssembler преобразовать все колонки с признаками в одну (использовать Pipeline — опционально).\n",
    "* 4) - Разбить данные на train и test.\n",
    "* 5) -Создать модель логистической регреcсии или модель дерева и обучить её.\n",
    "* 6) - Воспользоваться MulticlassClassificationEvaluator для оценки качества на train и test множестве."
   ]
  },
  {
   "cell_type": "markdown",
   "id": "ac6c3761",
   "metadata": {},
   "source": [
    "## Загрузка данных"
   ]
  },
  {
   "cell_type": "code",
   "execution_count": 33,
   "id": "991fc384",
   "metadata": {},
   "outputs": [],
   "source": [
    "df = spark.read.csv('./Data/iris.CSV', inferSchema=True, header=True)"
   ]
  },
  {
   "cell_type": "code",
   "execution_count": 34,
   "id": "5cfa1f34",
   "metadata": {},
   "outputs": [
    {
     "name": "stdout",
     "output_type": "stream",
     "text": [
      "+------------+-----------+------------+-----------+-------+-----------+\n",
      "|sepal_length|sepal_width|petal_length|petal_width|variety|variety_num|\n",
      "+------------+-----------+------------+-----------+-------+-----------+\n",
      "|         5.1|        3.5|         1.4|        0.2| Setosa|          0|\n",
      "|         4.9|        3.0|         1.4|        0.2| Setosa|          0|\n",
      "|         4.7|        3.2|         1.3|        0.2| Setosa|          0|\n",
      "|         4.6|        3.1|         1.5|        0.2| Setosa|          0|\n",
      "|         5.0|        3.6|         1.4|        0.2| Setosa|          0|\n",
      "+------------+-----------+------------+-----------+-------+-----------+\n",
      "only showing top 5 rows\n",
      "\n"
     ]
    }
   ],
   "source": [
    "df.show(5)"
   ]
  },
  {
   "cell_type": "markdown",
   "id": "351f6382",
   "metadata": {},
   "source": [
    "## VectorAssembler"
   ]
  },
  {
   "cell_type": "code",
   "execution_count": 35,
   "id": "5ac78e08",
   "metadata": {},
   "outputs": [],
   "source": [
    "vector_assembler_columns = [\n",
    "    'sepal_length',\n",
    "    'sepal_width',\n",
    "    'petal_length',\n",
    "    'petal_width'\n",
    "]"
   ]
  },
  {
   "cell_type": "code",
   "execution_count": 36,
   "id": "0a58075a",
   "metadata": {},
   "outputs": [],
   "source": [
    "vector_assembler = VectorAssembler(inputCols=vector_assembler_columns, outputCol='Features')"
   ]
  },
  {
   "cell_type": "code",
   "execution_count": 37,
   "id": "460ba0b8",
   "metadata": {},
   "outputs": [],
   "source": [
    "df_vector_assembler = vector_assembler.transform(df)"
   ]
  },
  {
   "cell_type": "code",
   "execution_count": 38,
   "id": "44040138",
   "metadata": {},
   "outputs": [
    {
     "name": "stdout",
     "output_type": "stream",
     "text": [
      "+------------+-----------+------------+-----------+-------+-----------+-----------------+\n",
      "|sepal_length|sepal_width|petal_length|petal_width|variety|variety_num|         Features|\n",
      "+------------+-----------+------------+-----------+-------+-----------+-----------------+\n",
      "|         5.1|        3.5|         1.4|        0.2| Setosa|          0|[5.1,3.5,1.4,0.2]|\n",
      "|         4.9|        3.0|         1.4|        0.2| Setosa|          0|[4.9,3.0,1.4,0.2]|\n",
      "|         4.7|        3.2|         1.3|        0.2| Setosa|          0|[4.7,3.2,1.3,0.2]|\n",
      "|         4.6|        3.1|         1.5|        0.2| Setosa|          0|[4.6,3.1,1.5,0.2]|\n",
      "|         5.0|        3.6|         1.4|        0.2| Setosa|          0|[5.0,3.6,1.4,0.2]|\n",
      "+------------+-----------+------------+-----------+-------+-----------+-----------------+\n",
      "only showing top 5 rows\n",
      "\n"
     ]
    }
   ],
   "source": [
    "df_vector_assembler.show(5)"
   ]
  },
  {
   "cell_type": "markdown",
   "id": "1780960e",
   "metadata": {},
   "source": [
    "## Pipeline"
   ]
  },
  {
   "cell_type": "code",
   "execution_count": 39,
   "id": "1004e0b4",
   "metadata": {},
   "outputs": [],
   "source": [
    "pipeline = Pipeline(stages=[\n",
    "    VectorAssembler(inputCols=vector_assembler_columns, outputCol='Features')\n",
    "])"
   ]
  },
  {
   "cell_type": "code",
   "execution_count": 40,
   "id": "f30d2382",
   "metadata": {},
   "outputs": [],
   "source": [
    "pipeline_train = pipeline.fit(df)"
   ]
  },
  {
   "cell_type": "code",
   "execution_count": 41,
   "id": "dbea700e",
   "metadata": {},
   "outputs": [
    {
     "name": "stdout",
     "output_type": "stream",
     "text": [
      "+------------+-----------+------------+-----------+-------+-----------+-----------------+\n",
      "|sepal_length|sepal_width|petal_length|petal_width|variety|variety_num|         Features|\n",
      "+------------+-----------+------------+-----------+-------+-----------+-----------------+\n",
      "|         5.1|        3.5|         1.4|        0.2| Setosa|          0|[5.1,3.5,1.4,0.2]|\n",
      "|         4.9|        3.0|         1.4|        0.2| Setosa|          0|[4.9,3.0,1.4,0.2]|\n",
      "|         4.7|        3.2|         1.3|        0.2| Setosa|          0|[4.7,3.2,1.3,0.2]|\n",
      "|         4.6|        3.1|         1.5|        0.2| Setosa|          0|[4.6,3.1,1.5,0.2]|\n",
      "|         5.0|        3.6|         1.4|        0.2| Setosa|          0|[5.0,3.6,1.4,0.2]|\n",
      "+------------+-----------+------------+-----------+-------+-----------+-----------------+\n",
      "only showing top 5 rows\n",
      "\n"
     ]
    }
   ],
   "source": [
    "pipeline_train.transform(df).show(5)"
   ]
  },
  {
   "cell_type": "markdown",
   "id": "173b594a",
   "metadata": {},
   "source": [
    "## Train Test Split"
   ]
  },
  {
   "cell_type": "code",
   "execution_count": 42,
   "id": "5b67702b",
   "metadata": {},
   "outputs": [],
   "source": [
    "train, test = df_vector_assembler.randomSplit([0.8, 0.2], seed=42)"
   ]
  },
  {
   "cell_type": "markdown",
   "id": "521e04ac",
   "metadata": {},
   "source": [
    "## Построение модели"
   ]
  },
  {
   "cell_type": "code",
   "execution_count": 43,
   "id": "4eeb7449",
   "metadata": {},
   "outputs": [],
   "source": [
    "log_reg = LogisticRegression(featuresCol='Features', labelCol='variety_num')"
   ]
  },
  {
   "cell_type": "code",
   "execution_count": 44,
   "id": "811192ca",
   "metadata": {},
   "outputs": [
    {
     "name": "stdout",
     "output_type": "stream",
     "text": [
      "23/02/16 01:55:54 WARN InstanceBuilder$NativeBLAS: Failed to load implementation from:dev.ludovic.netlib.blas.JNIBLAS\n",
      "23/02/16 01:55:54 WARN InstanceBuilder$NativeBLAS: Failed to load implementation from:dev.ludovic.netlib.blas.ForeignLinkerBLAS\n"
     ]
    }
   ],
   "source": [
    "log_reg_model = log_reg.fit(train)"
   ]
  },
  {
   "cell_type": "code",
   "execution_count": 45,
   "id": "39d321b7",
   "metadata": {},
   "outputs": [],
   "source": [
    "train_result = log_reg_model.transform(train)\n",
    "test_result = log_reg_model.transform(test)"
   ]
  },
  {
   "cell_type": "code",
   "execution_count": 47,
   "id": "7723d912",
   "metadata": {},
   "outputs": [
    {
     "name": "stdout",
     "output_type": "stream",
     "text": [
      "+------------+-----------+------------+-----------+-------+-----------+-----------------+--------------------+--------------------+----------+\n",
      "|sepal_length|sepal_width|petal_length|petal_width|variety|variety_num|         Features|       rawPrediction|         probability|prediction|\n",
      "+------------+-----------+------------+-----------+-------+-----------+-----------------+--------------------+--------------------+----------+\n",
      "|         4.3|        3.0|         1.1|        0.1| Setosa|          0|[4.3,3.0,1.1,0.1]|[60.0954414735541...|[1.0,1.0615924393...|       0.0|\n",
      "|         4.4|        2.9|         1.4|        0.2| Setosa|          0|[4.4,2.9,1.4,0.2]|[50.4387895503684...|[1.0,1.9406791125...|       0.0|\n",
      "|         4.4|        3.2|         1.3|        0.2| Setosa|          0|[4.4,3.2,1.3,0.2]|[61.4018436371999...|[1.0,6.0030709215...|       0.0|\n",
      "|         4.5|        2.3|         1.3|        0.3| Setosa|          0|[4.5,2.3,1.3,0.3]|[28.7879051398375...|[0.99999999755928...|       0.0|\n",
      "|         4.6|        3.1|         1.5|        0.2| Setosa|          0|[4.6,3.1,1.5,0.2]|[54.6260847840639...|[1.0,5.7438738098...|       0.0|\n",
      "+------------+-----------+------------+-----------+-------+-----------+-----------------+--------------------+--------------------+----------+\n",
      "only showing top 5 rows\n",
      "\n"
     ]
    }
   ],
   "source": [
    "train_result.show(5)"
   ]
  },
  {
   "cell_type": "markdown",
   "id": "8e74f2b0",
   "metadata": {},
   "source": [
    "## Оценка качества"
   ]
  },
  {
   "cell_type": "code",
   "execution_count": 48,
   "id": "fd4322a5",
   "metadata": {},
   "outputs": [],
   "source": [
    "evaluation = MulticlassClassificationEvaluator(labelCol='variety_num')"
   ]
  },
  {
   "cell_type": "code",
   "execution_count": 49,
   "id": "f6eb056e",
   "metadata": {},
   "outputs": [
    {
     "data": {
      "text/plain": [
       "(0.9841269841269842, 1.0)"
      ]
     },
     "execution_count": 49,
     "metadata": {},
     "output_type": "execute_result"
    }
   ],
   "source": [
    "evaluation.evaluate(train_result), evaluation.evaluate(test_result)"
   ]
  },
  {
   "cell_type": "code",
   "execution_count": null,
   "id": "91615893",
   "metadata": {},
   "outputs": [],
   "source": []
  }
 ],
 "metadata": {
  "kernelspec": {
   "display_name": "Python 3 (ipykernel)",
   "language": "python",
   "name": "python3"
  },
  "language_info": {
   "codemirror_mode": {
    "name": "ipython",
    "version": 3
   },
   "file_extension": ".py",
   "mimetype": "text/x-python",
   "name": "python",
   "nbconvert_exporter": "python",
   "pygments_lexer": "ipython3",
   "version": "3.10.5"
  }
 },
 "nbformat": 4,
 "nbformat_minor": 5
}
