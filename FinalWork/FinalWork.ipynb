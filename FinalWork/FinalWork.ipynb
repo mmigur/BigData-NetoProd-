{
 "cells": [
  {
   "cell_type": "code",
   "execution_count": 160,
   "id": "f202db5d",
   "metadata": {},
   "outputs": [],
   "source": [
    "import numpy as np\n",
    "import pandas as pd\n",
    "from sklearn.model_selection import train_test_split\n",
    "from sklearn.linear_model import LinearRegression\n",
    "from sklearn.metrics import mean_squared_error"
   ]
  },
  {
   "cell_type": "markdown",
   "id": "79f4ff0d",
   "metadata": {},
   "source": [
    "## Практика Python\n",
    "В данном разделе мы выступим в роли data scientist и попытаемся построить простую модель для рекомендации фильмов пользователям."
   ]
  },
  {
   "cell_type": "markdown",
   "id": "f0149f30",
   "metadata": {},
   "source": [
    "## Загрузка данных\n",
    "Загружаю дата-сеты по оценкам и фильмам "
   ]
  },
  {
   "cell_type": "code",
   "execution_count": 129,
   "id": "e9b758db",
   "metadata": {},
   "outputs": [],
   "source": [
    "ratings_df_columns = ['user_id', 'item_id', 'rating', 'timestamp']\n",
    "movies_df_columns = [\n",
    "    'movie_id', 'movie_title', 'release_date', 'video_release_date', 'IMDb URL', 'unknow', \n",
    "    'Action', 'Adventure', 'Animation', 'Children s', 'Comedy', 'Crime', 'Documentary', 'Drama',\n",
    "    'Fantasy', 'Film-Noir', 'Horror', 'Musical', 'Mystery', 'Romance', 'Sci-Fi', 'Thriller', 'War', 'Western'\n",
    "]"
   ]
  },
  {
   "cell_type": "code",
   "execution_count": 130,
   "id": "73accb51",
   "metadata": {},
   "outputs": [],
   "source": [
    "ratings_df = pd.read_csv(\n",
    "    './Data/u.data.csv', \n",
    "    sep='\\t', \n",
    "    names=ratings_df_columns\n",
    ")\n",
    "\n",
    "movies_df = pd.read_csv(\n",
    "    './Data/u.item.csv', \n",
    "    sep='|',\n",
    "    names=movies_df_columns,\n",
    "    encoding='latin-1'\n",
    ")"
   ]
  },
  {
   "cell_type": "code",
   "execution_count": 131,
   "id": "7c703578",
   "metadata": {},
   "outputs": [
    {
     "data": {
      "text/html": [
       "<div>\n",
       "<style scoped>\n",
       "    .dataframe tbody tr th:only-of-type {\n",
       "        vertical-align: middle;\n",
       "    }\n",
       "\n",
       "    .dataframe tbody tr th {\n",
       "        vertical-align: top;\n",
       "    }\n",
       "\n",
       "    .dataframe thead th {\n",
       "        text-align: right;\n",
       "    }\n",
       "</style>\n",
       "<table border=\"1\" class=\"dataframe\">\n",
       "  <thead>\n",
       "    <tr style=\"text-align: right;\">\n",
       "      <th></th>\n",
       "      <th>movie_id</th>\n",
       "      <th>movie_title</th>\n",
       "      <th>release_date</th>\n",
       "      <th>video_release_date</th>\n",
       "      <th>IMDb URL</th>\n",
       "      <th>unknow</th>\n",
       "      <th>Action</th>\n",
       "      <th>Adventure</th>\n",
       "      <th>Animation</th>\n",
       "      <th>Children s</th>\n",
       "      <th>...</th>\n",
       "      <th>Fantasy</th>\n",
       "      <th>Film-Noir</th>\n",
       "      <th>Horror</th>\n",
       "      <th>Musical</th>\n",
       "      <th>Mystery</th>\n",
       "      <th>Romance</th>\n",
       "      <th>Sci-Fi</th>\n",
       "      <th>Thriller</th>\n",
       "      <th>War</th>\n",
       "      <th>Western</th>\n",
       "    </tr>\n",
       "  </thead>\n",
       "  <tbody>\n",
       "    <tr>\n",
       "      <th>0</th>\n",
       "      <td>1</td>\n",
       "      <td>Toy Story (1995)</td>\n",
       "      <td>01-Jan-1995</td>\n",
       "      <td>NaN</td>\n",
       "      <td>http://us.imdb.com/M/title-exact?Toy%20Story%2...</td>\n",
       "      <td>0</td>\n",
       "      <td>0</td>\n",
       "      <td>0</td>\n",
       "      <td>1</td>\n",
       "      <td>1</td>\n",
       "      <td>...</td>\n",
       "      <td>0</td>\n",
       "      <td>0</td>\n",
       "      <td>0</td>\n",
       "      <td>0</td>\n",
       "      <td>0</td>\n",
       "      <td>0</td>\n",
       "      <td>0</td>\n",
       "      <td>0</td>\n",
       "      <td>0</td>\n",
       "      <td>0</td>\n",
       "    </tr>\n",
       "    <tr>\n",
       "      <th>1</th>\n",
       "      <td>2</td>\n",
       "      <td>GoldenEye (1995)</td>\n",
       "      <td>01-Jan-1995</td>\n",
       "      <td>NaN</td>\n",
       "      <td>http://us.imdb.com/M/title-exact?GoldenEye%20(...</td>\n",
       "      <td>0</td>\n",
       "      <td>1</td>\n",
       "      <td>1</td>\n",
       "      <td>0</td>\n",
       "      <td>0</td>\n",
       "      <td>...</td>\n",
       "      <td>0</td>\n",
       "      <td>0</td>\n",
       "      <td>0</td>\n",
       "      <td>0</td>\n",
       "      <td>0</td>\n",
       "      <td>0</td>\n",
       "      <td>0</td>\n",
       "      <td>1</td>\n",
       "      <td>0</td>\n",
       "      <td>0</td>\n",
       "    </tr>\n",
       "    <tr>\n",
       "      <th>2</th>\n",
       "      <td>3</td>\n",
       "      <td>Four Rooms (1995)</td>\n",
       "      <td>01-Jan-1995</td>\n",
       "      <td>NaN</td>\n",
       "      <td>http://us.imdb.com/M/title-exact?Four%20Rooms%...</td>\n",
       "      <td>0</td>\n",
       "      <td>0</td>\n",
       "      <td>0</td>\n",
       "      <td>0</td>\n",
       "      <td>0</td>\n",
       "      <td>...</td>\n",
       "      <td>0</td>\n",
       "      <td>0</td>\n",
       "      <td>0</td>\n",
       "      <td>0</td>\n",
       "      <td>0</td>\n",
       "      <td>0</td>\n",
       "      <td>0</td>\n",
       "      <td>1</td>\n",
       "      <td>0</td>\n",
       "      <td>0</td>\n",
       "    </tr>\n",
       "    <tr>\n",
       "      <th>3</th>\n",
       "      <td>4</td>\n",
       "      <td>Get Shorty (1995)</td>\n",
       "      <td>01-Jan-1995</td>\n",
       "      <td>NaN</td>\n",
       "      <td>http://us.imdb.com/M/title-exact?Get%20Shorty%...</td>\n",
       "      <td>0</td>\n",
       "      <td>1</td>\n",
       "      <td>0</td>\n",
       "      <td>0</td>\n",
       "      <td>0</td>\n",
       "      <td>...</td>\n",
       "      <td>0</td>\n",
       "      <td>0</td>\n",
       "      <td>0</td>\n",
       "      <td>0</td>\n",
       "      <td>0</td>\n",
       "      <td>0</td>\n",
       "      <td>0</td>\n",
       "      <td>0</td>\n",
       "      <td>0</td>\n",
       "      <td>0</td>\n",
       "    </tr>\n",
       "    <tr>\n",
       "      <th>4</th>\n",
       "      <td>5</td>\n",
       "      <td>Copycat (1995)</td>\n",
       "      <td>01-Jan-1995</td>\n",
       "      <td>NaN</td>\n",
       "      <td>http://us.imdb.com/M/title-exact?Copycat%20(1995)</td>\n",
       "      <td>0</td>\n",
       "      <td>0</td>\n",
       "      <td>0</td>\n",
       "      <td>0</td>\n",
       "      <td>0</td>\n",
       "      <td>...</td>\n",
       "      <td>0</td>\n",
       "      <td>0</td>\n",
       "      <td>0</td>\n",
       "      <td>0</td>\n",
       "      <td>0</td>\n",
       "      <td>0</td>\n",
       "      <td>0</td>\n",
       "      <td>1</td>\n",
       "      <td>0</td>\n",
       "      <td>0</td>\n",
       "    </tr>\n",
       "  </tbody>\n",
       "</table>\n",
       "<p>5 rows × 24 columns</p>\n",
       "</div>"
      ],
      "text/plain": [
       "   movie_id        movie_title release_date  video_release_date  \\\n",
       "0         1   Toy Story (1995)  01-Jan-1995                 NaN   \n",
       "1         2   GoldenEye (1995)  01-Jan-1995                 NaN   \n",
       "2         3  Four Rooms (1995)  01-Jan-1995                 NaN   \n",
       "3         4  Get Shorty (1995)  01-Jan-1995                 NaN   \n",
       "4         5     Copycat (1995)  01-Jan-1995                 NaN   \n",
       "\n",
       "                                            IMDb URL  unknow  Action  \\\n",
       "0  http://us.imdb.com/M/title-exact?Toy%20Story%2...       0       0   \n",
       "1  http://us.imdb.com/M/title-exact?GoldenEye%20(...       0       1   \n",
       "2  http://us.imdb.com/M/title-exact?Four%20Rooms%...       0       0   \n",
       "3  http://us.imdb.com/M/title-exact?Get%20Shorty%...       0       1   \n",
       "4  http://us.imdb.com/M/title-exact?Copycat%20(1995)       0       0   \n",
       "\n",
       "   Adventure  Animation  Children s  ...  Fantasy  Film-Noir  Horror  Musical  \\\n",
       "0          0          1           1  ...        0          0       0        0   \n",
       "1          1          0           0  ...        0          0       0        0   \n",
       "2          0          0           0  ...        0          0       0        0   \n",
       "3          0          0           0  ...        0          0       0        0   \n",
       "4          0          0           0  ...        0          0       0        0   \n",
       "\n",
       "   Mystery  Romance  Sci-Fi  Thriller  War  Western  \n",
       "0        0        0       0         0    0        0  \n",
       "1        0        0       0         1    0        0  \n",
       "2        0        0       0         1    0        0  \n",
       "3        0        0       0         0    0        0  \n",
       "4        0        0       0         1    0        0  \n",
       "\n",
       "[5 rows x 24 columns]"
      ]
     },
     "execution_count": 131,
     "metadata": {},
     "output_type": "execute_result"
    }
   ],
   "source": [
    "movies_df.head()"
   ]
  },
  {
   "cell_type": "markdown",
   "id": "9575e22f",
   "metadata": {},
   "source": [
    "## Найти пользователя, который поставил больше всех оценок."
   ]
  },
  {
   "cell_type": "code",
   "execution_count": 132,
   "id": "7cf65eac",
   "metadata": {},
   "outputs": [
    {
     "data": {
      "text/html": [
       "<div>\n",
       "<style scoped>\n",
       "    .dataframe tbody tr th:only-of-type {\n",
       "        vertical-align: middle;\n",
       "    }\n",
       "\n",
       "    .dataframe tbody tr th {\n",
       "        vertical-align: top;\n",
       "    }\n",
       "\n",
       "    .dataframe thead th {\n",
       "        text-align: right;\n",
       "    }\n",
       "</style>\n",
       "<table border=\"1\" class=\"dataframe\">\n",
       "  <thead>\n",
       "    <tr style=\"text-align: right;\">\n",
       "      <th></th>\n",
       "      <th>user_id</th>\n",
       "      <th>item_id</th>\n",
       "      <th>rating</th>\n",
       "      <th>timestamp</th>\n",
       "    </tr>\n",
       "  </thead>\n",
       "  <tbody>\n",
       "    <tr>\n",
       "      <th>0</th>\n",
       "      <td>196</td>\n",
       "      <td>242</td>\n",
       "      <td>3</td>\n",
       "      <td>881250949</td>\n",
       "    </tr>\n",
       "    <tr>\n",
       "      <th>1</th>\n",
       "      <td>186</td>\n",
       "      <td>302</td>\n",
       "      <td>3</td>\n",
       "      <td>891717742</td>\n",
       "    </tr>\n",
       "    <tr>\n",
       "      <th>2</th>\n",
       "      <td>22</td>\n",
       "      <td>377</td>\n",
       "      <td>1</td>\n",
       "      <td>878887116</td>\n",
       "    </tr>\n",
       "    <tr>\n",
       "      <th>3</th>\n",
       "      <td>244</td>\n",
       "      <td>51</td>\n",
       "      <td>2</td>\n",
       "      <td>880606923</td>\n",
       "    </tr>\n",
       "    <tr>\n",
       "      <th>4</th>\n",
       "      <td>166</td>\n",
       "      <td>346</td>\n",
       "      <td>1</td>\n",
       "      <td>886397596</td>\n",
       "    </tr>\n",
       "  </tbody>\n",
       "</table>\n",
       "</div>"
      ],
      "text/plain": [
       "   user_id  item_id  rating  timestamp\n",
       "0      196      242       3  881250949\n",
       "1      186      302       3  891717742\n",
       "2       22      377       1  878887116\n",
       "3      244       51       2  880606923\n",
       "4      166      346       1  886397596"
      ]
     },
     "execution_count": 132,
     "metadata": {},
     "output_type": "execute_result"
    }
   ],
   "source": [
    "ratings_df.head()"
   ]
  },
  {
   "cell_type": "code",
   "execution_count": 133,
   "id": "11de1b76",
   "metadata": {},
   "outputs": [
    {
     "data": {
      "text/html": [
       "<div>\n",
       "<style scoped>\n",
       "    .dataframe tbody tr th:only-of-type {\n",
       "        vertical-align: middle;\n",
       "    }\n",
       "\n",
       "    .dataframe tbody tr th {\n",
       "        vertical-align: top;\n",
       "    }\n",
       "\n",
       "    .dataframe thead th {\n",
       "        text-align: right;\n",
       "    }\n",
       "</style>\n",
       "<table border=\"1\" class=\"dataframe\">\n",
       "  <thead>\n",
       "    <tr style=\"text-align: right;\">\n",
       "      <th></th>\n",
       "      <th>rating</th>\n",
       "    </tr>\n",
       "    <tr>\n",
       "      <th>user_id</th>\n",
       "      <th></th>\n",
       "    </tr>\n",
       "  </thead>\n",
       "  <tbody>\n",
       "    <tr>\n",
       "      <th>450</th>\n",
       "      <td>2087</td>\n",
       "    </tr>\n",
       "  </tbody>\n",
       "</table>\n",
       "</div>"
      ],
      "text/plain": [
       "         rating\n",
       "user_id        \n",
       "450        2087"
      ]
     },
     "execution_count": 133,
     "metadata": {},
     "output_type": "execute_result"
    }
   ],
   "source": [
    "ratings_df.groupby('user_id').agg({'rating': 'sum'}).sort_values(by='rating', ascending=False).head(1)"
   ]
  },
  {
   "cell_type": "markdown",
   "id": "65e57d9c",
   "metadata": {},
   "source": [
    "## Оставить в датафрейме ratings только те фильмы, который оценил данный пользователь "
   ]
  },
  {
   "cell_type": "code",
   "execution_count": 134,
   "id": "967929ee",
   "metadata": {},
   "outputs": [],
   "source": [
    "ratings_the_best_user = ratings_df[ratings_df['user_id'] == 450]"
   ]
  },
  {
   "cell_type": "markdown",
   "id": "e74031bd",
   "metadata": {},
   "source": [
    "## Добавить к датафрейму столбцы\n",
    "Для построения модели нам нужны признаки. В качестве таковых будем использовать:\n",
    "* Год выхода\n",
    "* Жанры\n",
    "* Общее количество оценок\n",
    "* Суммарную оценку\n",
    "\n",
    "\n",
    "По жанрам. Каждый столбец - это жанр. \n",
    "* Единицу записываем, если фильм принадлежит данному жанру и 0 - если нет\n",
    "* Cтолбцы с общим количеством оценок от всех пользователей на фильм и суммарной оценкой от всех пользователей\n"
   ]
  },
  {
   "cell_type": "code",
   "execution_count": 135,
   "id": "a58309fd",
   "metadata": {},
   "outputs": [],
   "source": [
    "selected_colun_movies_df = [\n",
    "    'movie_id', 'release_date','Action', 'Adventure', 'Animation', 'Children s', 'Comedy', 'Crime', 'Documentary', 'Drama',\n",
    "    'Fantasy', 'Film-Noir', 'Horror', 'Musical', 'Mystery', 'Romance', 'Sci-Fi', 'Thriller', 'War', 'Western'\n",
    "]"
   ]
  },
  {
   "cell_type": "code",
   "execution_count": 136,
   "id": "6e770870",
   "metadata": {},
   "outputs": [],
   "source": [
    "ratings_the_best_user = ratings_the_best_user.merge(\n",
    "    movies_df[selected_colun_movies_df], \n",
    "    left_on='item_id', \n",
    "    right_on='movie_id'\n",
    ")"
   ]
  },
  {
   "cell_type": "code",
   "execution_count": 137,
   "id": "aacf2946",
   "metadata": {},
   "outputs": [],
   "source": [
    "ratings_the_best_user['count_ratings'] = ratings_the_best_user['rating'].count()\n",
    "ratings_the_best_user['sum_ratings'] = ratings_the_best_user['rating'].sum()\n",
    "ratings_the_best_user['release_date'] = pd.to_datetime(ratings_the_best_user['release_date'])\n",
    "ratings_the_best_user['release_date'] = ratings_the_best_user['release_date'].dt.year"
   ]
  },
  {
   "cell_type": "markdown",
   "id": "1439790f",
   "metadata": {},
   "source": [
    "## Train and test sample"
   ]
  },
  {
   "cell_type": "code",
   "execution_count": 138,
   "id": "9d0d8706",
   "metadata": {},
   "outputs": [
    {
     "data": {
      "text/html": [
       "<div>\n",
       "<style scoped>\n",
       "    .dataframe tbody tr th:only-of-type {\n",
       "        vertical-align: middle;\n",
       "    }\n",
       "\n",
       "    .dataframe tbody tr th {\n",
       "        vertical-align: top;\n",
       "    }\n",
       "\n",
       "    .dataframe thead th {\n",
       "        text-align: right;\n",
       "    }\n",
       "</style>\n",
       "<table border=\"1\" class=\"dataframe\">\n",
       "  <thead>\n",
       "    <tr style=\"text-align: right;\">\n",
       "      <th></th>\n",
       "      <th>user_id</th>\n",
       "      <th>item_id</th>\n",
       "      <th>rating</th>\n",
       "      <th>timestamp</th>\n",
       "      <th>movie_id</th>\n",
       "      <th>release_date</th>\n",
       "      <th>Action</th>\n",
       "      <th>Adventure</th>\n",
       "      <th>Animation</th>\n",
       "      <th>Children s</th>\n",
       "      <th>...</th>\n",
       "      <th>Horror</th>\n",
       "      <th>Musical</th>\n",
       "      <th>Mystery</th>\n",
       "      <th>Romance</th>\n",
       "      <th>Sci-Fi</th>\n",
       "      <th>Thriller</th>\n",
       "      <th>War</th>\n",
       "      <th>Western</th>\n",
       "      <th>count_ratings</th>\n",
       "      <th>sum_ratings</th>\n",
       "    </tr>\n",
       "  </thead>\n",
       "  <tbody>\n",
       "    <tr>\n",
       "      <th>0</th>\n",
       "      <td>450</td>\n",
       "      <td>470</td>\n",
       "      <td>5</td>\n",
       "      <td>887139517</td>\n",
       "      <td>470</td>\n",
       "      <td>1993</td>\n",
       "      <td>0</td>\n",
       "      <td>0</td>\n",
       "      <td>0</td>\n",
       "      <td>0</td>\n",
       "      <td>...</td>\n",
       "      <td>0</td>\n",
       "      <td>0</td>\n",
       "      <td>0</td>\n",
       "      <td>0</td>\n",
       "      <td>0</td>\n",
       "      <td>0</td>\n",
       "      <td>0</td>\n",
       "      <td>1</td>\n",
       "      <td>540</td>\n",
       "      <td>2087</td>\n",
       "    </tr>\n",
       "    <tr>\n",
       "      <th>1</th>\n",
       "      <td>450</td>\n",
       "      <td>783</td>\n",
       "      <td>3</td>\n",
       "      <td>882399818</td>\n",
       "      <td>783</td>\n",
       "      <td>1994</td>\n",
       "      <td>0</td>\n",
       "      <td>0</td>\n",
       "      <td>0</td>\n",
       "      <td>0</td>\n",
       "      <td>...</td>\n",
       "      <td>0</td>\n",
       "      <td>0</td>\n",
       "      <td>0</td>\n",
       "      <td>1</td>\n",
       "      <td>0</td>\n",
       "      <td>0</td>\n",
       "      <td>0</td>\n",
       "      <td>0</td>\n",
       "      <td>540</td>\n",
       "      <td>2087</td>\n",
       "    </tr>\n",
       "  </tbody>\n",
       "</table>\n",
       "<p>2 rows × 26 columns</p>\n",
       "</div>"
      ],
      "text/plain": [
       "   user_id  item_id  rating  timestamp  movie_id  release_date  Action  \\\n",
       "0      450      470       5  887139517       470          1993       0   \n",
       "1      450      783       3  882399818       783          1994       0   \n",
       "\n",
       "   Adventure  Animation  Children s  ...  Horror  Musical  Mystery  Romance  \\\n",
       "0          0          0           0  ...       0        0        0        0   \n",
       "1          0          0           0  ...       0        0        0        1   \n",
       "\n",
       "   Sci-Fi  Thriller  War  Western  count_ratings  sum_ratings  \n",
       "0       0         0    0        1            540         2087  \n",
       "1       0         0    0        0            540         2087  \n",
       "\n",
       "[2 rows x 26 columns]"
      ]
     },
     "execution_count": 138,
     "metadata": {},
     "output_type": "execute_result"
    }
   ],
   "source": [
    "ratings_the_best_user.head(2)"
   ]
  },
  {
   "cell_type": "code",
   "execution_count": 139,
   "id": "96f5095d",
   "metadata": {},
   "outputs": [],
   "source": [
    "X = ratings_the_best_user.drop('rating', axis=1)\n",
    "y = ratings_the_best_user['rating']"
   ]
  },
  {
   "cell_type": "code",
   "execution_count": 140,
   "id": "beeccadc",
   "metadata": {},
   "outputs": [],
   "source": [
    "X_train, X_test, y_train, y_test = train_test_split(X, y, test_size=0.33, random_state=42)"
   ]
  },
  {
   "cell_type": "markdown",
   "id": "83d475c7",
   "metadata": {},
   "source": [
    "## Построение модели "
   ]
  },
  {
   "cell_type": "code",
   "execution_count": 142,
   "id": "3920dae4",
   "metadata": {},
   "outputs": [
    {
     "name": "stdout",
     "output_type": "stream",
     "text": [
      "<class 'pandas.core.frame.DataFrame'>\n",
      "Int64Index: 540 entries, 0 to 539\n",
      "Data columns (total 26 columns):\n",
      " #   Column         Non-Null Count  Dtype\n",
      "---  ------         --------------  -----\n",
      " 0   user_id        540 non-null    int64\n",
      " 1   item_id        540 non-null    int64\n",
      " 2   rating         540 non-null    int64\n",
      " 3   timestamp      540 non-null    int64\n",
      " 4   movie_id       540 non-null    int64\n",
      " 5   release_date   540 non-null    int64\n",
      " 6   Action         540 non-null    int64\n",
      " 7   Adventure      540 non-null    int64\n",
      " 8   Animation      540 non-null    int64\n",
      " 9   Children s     540 non-null    int64\n",
      " 10  Comedy         540 non-null    int64\n",
      " 11  Crime          540 non-null    int64\n",
      " 12  Documentary    540 non-null    int64\n",
      " 13  Drama          540 non-null    int64\n",
      " 14  Fantasy        540 non-null    int64\n",
      " 15  Film-Noir      540 non-null    int64\n",
      " 16  Horror         540 non-null    int64\n",
      " 17  Musical        540 non-null    int64\n",
      " 18  Mystery        540 non-null    int64\n",
      " 19  Romance        540 non-null    int64\n",
      " 20  Sci-Fi         540 non-null    int64\n",
      " 21  Thriller       540 non-null    int64\n",
      " 22  War            540 non-null    int64\n",
      " 23  Western        540 non-null    int64\n",
      " 24  count_ratings  540 non-null    int64\n",
      " 25  sum_ratings    540 non-null    int64\n",
      "dtypes: int64(26)\n",
      "memory usage: 113.9 KB\n"
     ]
    }
   ],
   "source": [
    "ratings_the_best_user.info()"
   ]
  },
  {
   "cell_type": "code",
   "execution_count": 143,
   "id": "cba0dff1",
   "metadata": {},
   "outputs": [],
   "source": [
    "model_linear_reg = LinearRegression()"
   ]
  },
  {
   "cell_type": "code",
   "execution_count": 144,
   "id": "ac6c569f",
   "metadata": {},
   "outputs": [
    {
     "data": {
      "text/html": [
       "<style>#sk-container-id-1 {color: black;background-color: white;}#sk-container-id-1 pre{padding: 0;}#sk-container-id-1 div.sk-toggleable {background-color: white;}#sk-container-id-1 label.sk-toggleable__label {cursor: pointer;display: block;width: 100%;margin-bottom: 0;padding: 0.3em;box-sizing: border-box;text-align: center;}#sk-container-id-1 label.sk-toggleable__label-arrow:before {content: \"▸\";float: left;margin-right: 0.25em;color: #696969;}#sk-container-id-1 label.sk-toggleable__label-arrow:hover:before {color: black;}#sk-container-id-1 div.sk-estimator:hover label.sk-toggleable__label-arrow:before {color: black;}#sk-container-id-1 div.sk-toggleable__content {max-height: 0;max-width: 0;overflow: hidden;text-align: left;background-color: #f0f8ff;}#sk-container-id-1 div.sk-toggleable__content pre {margin: 0.2em;color: black;border-radius: 0.25em;background-color: #f0f8ff;}#sk-container-id-1 input.sk-toggleable__control:checked~div.sk-toggleable__content {max-height: 200px;max-width: 100%;overflow: auto;}#sk-container-id-1 input.sk-toggleable__control:checked~label.sk-toggleable__label-arrow:before {content: \"▾\";}#sk-container-id-1 div.sk-estimator input.sk-toggleable__control:checked~label.sk-toggleable__label {background-color: #d4ebff;}#sk-container-id-1 div.sk-label input.sk-toggleable__control:checked~label.sk-toggleable__label {background-color: #d4ebff;}#sk-container-id-1 input.sk-hidden--visually {border: 0;clip: rect(1px 1px 1px 1px);clip: rect(1px, 1px, 1px, 1px);height: 1px;margin: -1px;overflow: hidden;padding: 0;position: absolute;width: 1px;}#sk-container-id-1 div.sk-estimator {font-family: monospace;background-color: #f0f8ff;border: 1px dotted black;border-radius: 0.25em;box-sizing: border-box;margin-bottom: 0.5em;}#sk-container-id-1 div.sk-estimator:hover {background-color: #d4ebff;}#sk-container-id-1 div.sk-parallel-item::after {content: \"\";width: 100%;border-bottom: 1px solid gray;flex-grow: 1;}#sk-container-id-1 div.sk-label:hover label.sk-toggleable__label {background-color: #d4ebff;}#sk-container-id-1 div.sk-serial::before {content: \"\";position: absolute;border-left: 1px solid gray;box-sizing: border-box;top: 0;bottom: 0;left: 50%;z-index: 0;}#sk-container-id-1 div.sk-serial {display: flex;flex-direction: column;align-items: center;background-color: white;padding-right: 0.2em;padding-left: 0.2em;position: relative;}#sk-container-id-1 div.sk-item {position: relative;z-index: 1;}#sk-container-id-1 div.sk-parallel {display: flex;align-items: stretch;justify-content: center;background-color: white;position: relative;}#sk-container-id-1 div.sk-item::before, #sk-container-id-1 div.sk-parallel-item::before {content: \"\";position: absolute;border-left: 1px solid gray;box-sizing: border-box;top: 0;bottom: 0;left: 50%;z-index: -1;}#sk-container-id-1 div.sk-parallel-item {display: flex;flex-direction: column;z-index: 1;position: relative;background-color: white;}#sk-container-id-1 div.sk-parallel-item:first-child::after {align-self: flex-end;width: 50%;}#sk-container-id-1 div.sk-parallel-item:last-child::after {align-self: flex-start;width: 50%;}#sk-container-id-1 div.sk-parallel-item:only-child::after {width: 0;}#sk-container-id-1 div.sk-dashed-wrapped {border: 1px dashed gray;margin: 0 0.4em 0.5em 0.4em;box-sizing: border-box;padding-bottom: 0.4em;background-color: white;}#sk-container-id-1 div.sk-label label {font-family: monospace;font-weight: bold;display: inline-block;line-height: 1.2em;}#sk-container-id-1 div.sk-label-container {text-align: center;}#sk-container-id-1 div.sk-container {/* jupyter's `normalize.less` sets `[hidden] { display: none; }` but bootstrap.min.css set `[hidden] { display: none !important; }` so we also need the `!important` here to be able to override the default hidden behavior on the sphinx rendered scikit-learn.org. See: https://github.com/scikit-learn/scikit-learn/issues/21755 */display: inline-block !important;position: relative;}#sk-container-id-1 div.sk-text-repr-fallback {display: none;}</style><div id=\"sk-container-id-1\" class=\"sk-top-container\"><div class=\"sk-text-repr-fallback\"><pre>LinearRegression()</pre><b>In a Jupyter environment, please rerun this cell to show the HTML representation or trust the notebook. <br />On GitHub, the HTML representation is unable to render, please try loading this page with nbviewer.org.</b></div><div class=\"sk-container\" hidden><div class=\"sk-item\"><div class=\"sk-estimator sk-toggleable\"><input class=\"sk-toggleable__control sk-hidden--visually\" id=\"sk-estimator-id-1\" type=\"checkbox\" checked><label for=\"sk-estimator-id-1\" class=\"sk-toggleable__label sk-toggleable__label-arrow\">LinearRegression</label><div class=\"sk-toggleable__content\"><pre>LinearRegression()</pre></div></div></div></div></div>"
      ],
      "text/plain": [
       "LinearRegression()"
      ]
     },
     "execution_count": 144,
     "metadata": {},
     "output_type": "execute_result"
    }
   ],
   "source": [
    "model_linear_reg.fit(X_train, y_train)"
   ]
  },
  {
   "cell_type": "markdown",
   "id": "b05610ea",
   "metadata": {},
   "source": [
    "## Оценка качества модели"
   ]
  },
  {
   "cell_type": "code",
   "execution_count": 162,
   "id": "b664a342",
   "metadata": {},
   "outputs": [],
   "source": [
    "y_pred = model_linear_reg.predict(X_test)"
   ]
  },
  {
   "cell_type": "code",
   "execution_count": 163,
   "id": "05f9dec5",
   "metadata": {},
   "outputs": [
    {
     "data": {
      "text/plain": [
       "0.8654995944809156"
      ]
     },
     "execution_count": 163,
     "metadata": {},
     "output_type": "execute_result"
    }
   ],
   "source": [
    "mean_squared_error(y_pred, y_test)"
   ]
  },
  {
   "cell_type": "code",
   "execution_count": 164,
   "id": "a5ad07fe",
   "metadata": {},
   "outputs": [],
   "source": [
    "import pyspark\n",
    "from pyspark.sql import SparkSession"
   ]
  },
  {
   "cell_type": "code",
   "execution_count": 165,
   "id": "46d1bc22",
   "metadata": {},
   "outputs": [],
   "source": [
    "spark = SparkSession.builder.master('local[*]').getOrCreate()\n",
    "sc = spark.sparkContext"
   ]
  },
  {
   "cell_type": "markdown",
   "id": "bd3c7589",
   "metadata": {},
   "source": [
    "## Загрузка данных в Spark"
   ]
  },
  {
   "cell_type": "code",
   "execution_count": 225,
   "id": "01791f03",
   "metadata": {},
   "outputs": [],
   "source": [
    "ratings_df_columns = ['user_id', 'item_id', 'rating', 'timestamp']\n",
    "movies_df_columns = [\n",
    "    'movie_id', 'movie_title', 'release_date', 'video_release_date', 'IMDb URL', 'unknow', \n",
    "    'Action', 'Adventure', 'Animation', 'Children s', 'Comedy', 'Crime', 'Documentary', 'Drama',\n",
    "    'Fantasy', 'Film-Noir', 'Horror', 'Musical', 'Mystery', 'Romance', 'Sci-Fi', 'Thriller', 'War', 'Western'\n",
    "]"
   ]
  },
  {
   "cell_type": "code",
   "execution_count": 226,
   "id": "178b005a",
   "metadata": {},
   "outputs": [],
   "source": [
    "movies_df = spark.read.csv('./Data/u.item.csv', \n",
    "                    inferSchema=True, \n",
    "                    sep='|', \n",
    "                    header=False\n",
    ")\n",
    "\n",
    "ratings_df = spark.read.csv('./Data/u.data.csv', \n",
    "                    inferSchema=True, \n",
    "                    sep='\\t', \n",
    "                    header=False\n",
    ")"
   ]
  },
  {
   "cell_type": "code",
   "execution_count": 232,
   "id": "aa13c649",
   "metadata": {},
   "outputs": [],
   "source": [
    "movies_df = movies_df.toDF(*movies_df_columns)\n",
    "ratings_df = ratings_df.toDF(*ratings_df_columns)"
   ]
  },
  {
   "cell_type": "code",
   "execution_count": 233,
   "id": "3bff8c6b",
   "metadata": {},
   "outputs": [],
   "source": [
    "merge_df_movies = ratings_df.join(movies_df, ratings_df['item_id'] == movies_df['movie_id'])"
   ]
  },
  {
   "cell_type": "markdown",
   "id": "fcdafa8a",
   "metadata": {},
   "source": [
    "## Средняя оценка каждого фильма"
   ]
  },
  {
   "cell_type": "code",
   "execution_count": 229,
   "id": "c717b1df",
   "metadata": {},
   "outputs": [
    {
     "name": "stdout",
     "output_type": "stream",
     "text": [
      "+--------------------+------------------+\n",
      "|         movie_title|       avg(rating)|\n",
      "+--------------------+------------------+\n",
      "|   Annie Hall (1977)| 3.911111111111111|\n",
      "|Heavenly Creature...|3.6714285714285713|\n",
      "|       Psycho (1960)| 4.100418410041841|\n",
      "|Snow White and th...|3.7093023255813953|\n",
      "|Night of the Livi...|          3.421875|\n",
      "|When We Were King...| 4.045454545454546|\n",
      "| If Lucy Fell (1996)|2.7586206896551726|\n",
      "|    Fair Game (1995)|2.1818181818181817|\n",
      "| Three Wishes (1995)|3.2222222222222223|\n",
      "|         Cosi (1996)|               4.0|\n",
      "|Paris, France (1993)|2.3333333333333335|\n",
      "|Spanking the Monk...| 3.074074074074074|\n",
      "|I'll Do Anything ...|               2.6|\n",
      "|        Mondo (1996)|               3.0|\n",
      "| Evil Dead II (1987)|3.5168539325842696|\n",
      "|    Threesome (1994)| 2.838709677419355|\n",
      "|Last Action Hero ...|2.7457627118644066|\n",
      "|Reality Bites (1994)| 2.961038961038961|\n",
      "|Colonel Chabert, ...|               3.5|\n",
      "|   Blue Chips (1994)|2.6666666666666665|\n",
      "+--------------------+------------------+\n",
      "only showing top 20 rows\n",
      "\n"
     ]
    }
   ],
   "source": [
    "merge_df_movies.groupBy('movie_title').mean('rating').show()"
   ]
  },
  {
   "cell_type": "markdown",
   "id": "642ef3cc",
   "metadata": {},
   "source": [
    "## Средняя оценка для каждого жанра"
   ]
  },
  {
   "cell_type": "code",
   "execution_count": 230,
   "id": "78682f02",
   "metadata": {},
   "outputs": [],
   "source": [
    "movies_genre = [\n",
    "    'Action', 'Adventure', 'Animation', 'Children s', 'Comedy', 'Crime', 'Documentary', 'Drama',\n",
    "    'Fantasy', 'Film-Noir', 'Horror', 'Musical', 'Mystery', 'Romance', 'Sci-Fi', 'Thriller', 'War', 'Western'\n",
    "]"
   ]
  },
  {
   "cell_type": "code",
   "execution_count": 231,
   "id": "306db56f",
   "metadata": {},
   "outputs": [
    {
     "name": "stdout",
     "output_type": "stream",
     "text": [
      "+------+---------+---------+----------+------+-----+-----------+-----+-------+---------+------+-------+-------+-------+------+--------+---+-------+------------------+\n",
      "|Action|Adventure|Animation|Children s|Comedy|Crime|Documentary|Drama|Fantasy|Film-Noir|Horror|Musical|Mystery|Romance|Sci-Fi|Thriller|War|Western|       avg(rating)|\n",
      "+------+---------+---------+----------+------+-----+-----------+-----+-------+---------+------+-------+-------+-------+------+--------+---+-------+------------------+\n",
      "|     0|        0|        0|         0|     1|    1|          0|    0|      1|        0|     0|      0|      0|      0|     0|       0|  0|      0| 3.193798449612403|\n",
      "|     1|        0|        0|         0|     0|    1|          0|    0|      0|        0|     0|      0|      1|      0|     0|       0|  0|      0|          3.359375|\n",
      "|     0|        0|        0|         0|     0|    0|          0|    0|      0|        1|     0|      0|      0|      0|     0|       0|  0|      0| 4.119402985074627|\n",
      "|     0|        0|        0|         0|     0|    0|          0|    1|      0|        0|     0|      0|      0|      0|     1|       0|  0|      0| 3.792360430950049|\n",
      "|     1|        0|        0|         0|     0|    0|          0|    0|      0|        0|     0|      0|      1|      0|     0|       1|  0|      0|3.0952380952380953|\n",
      "|     1|        0|        1|         1|     0|    0|          0|    0|      0|        0|     0|      0|      0|      0|     1|       1|  1|      0|           2.84375|\n",
      "|     0|        0|        0|         0|     0|    0|          0|    0|      0|        0|     0|      0|      0|      0|     0|       0|  0|      0|               3.2|\n",
      "|     1|        0|        0|         0|     0|    0|          0|    0|      0|        0|     0|      0|      0|      1|     0|       0|  1|      0|          3.546875|\n",
      "|     0|        1|        0|         0|     1|    0|          0|    0|      0|        0|     0|      0|      0|      0|     0|       0|  0|      0|3.6610169491525424|\n",
      "|     0|        1|        1|         1|     0|    0|          0|    0|      0|        0|     0|      1|      0|      0|     0|       0|  0|      0|2.7209302325581395|\n",
      "|     0|        0|        0|         0|     1|    0|          0|    1|      0|        0|     0|      0|      0|      0|     0|       0|  1|      0| 3.180327868852459|\n",
      "|     0|        1|        0|         0|     0|    0|          0|    0|      0|        0|     0|      0|      0|      0|     0|       0|  0|      0| 3.632716049382716|\n",
      "|     0|        0|        0|         0|     1|    1|          0|    1|      0|        0|     0|      0|      1|      0|     0|       0|  0|      0|            3.1625|\n",
      "|     0|        0|        0|         0|     0|    1|          0|    0|      0|        0|     0|      0|      0|      0|     0|       1|  0|      0|3.8858173076923075|\n",
      "|     0|        0|        1|         1|     0|    0|          0|    0|      0|        0|     0|      1|      0|      1|     0|       0|  0|      0|2.5294117647058822|\n",
      "|     0|        0|        0|         0|     0|    0|          0|    0|      0|        1|     0|      0|      0|      0|     0|       1|  0|      0|3.9217391304347826|\n",
      "|     0|        0|        0|         1|     1|    0|          0|    1|      0|        0|     0|      0|      0|      0|     0|       0|  0|      0| 3.902439024390244|\n",
      "|     1|        0|        0|         0|     1|    1|          0|    1|      0|        0|     0|      0|      0|      0|     0|       0|  0|      0|               3.4|\n",
      "|     0|        0|        0|         0|     0|    0|          0|    0|      0|        0|     1|      0|      0|      0|     0|       0|  0|      0| 3.148908857509628|\n",
      "|     0|        0|        0|         0|     0|    0|          0|    1|      0|        0|     0|      0|      0|      1|     0|       1|  0|      0|3.6842105263157894|\n",
      "+------+---------+---------+----------+------+-----+-----------+-----+-------+---------+------+-------+-------+-------+------+--------+---+-------+------------------+\n",
      "only showing top 20 rows\n",
      "\n"
     ]
    }
   ],
   "source": [
    "merge_df_movies.groupBy(genre).mean('rating').show()"
   ]
  },
  {
   "cell_type": "markdown",
   "id": "e9b2e9c4",
   "metadata": {},
   "source": [
    "## Получние двух датафреймов с 5-ю самыми популярными и самыми непопулярными фильмами по количеству оценок."
   ]
  },
  {
   "cell_type": "code",
   "execution_count": 287,
   "id": "88828a3f",
   "metadata": {},
   "outputs": [],
   "source": [
    "most_popular_films = merge_df_movies.groupBy('movie_title').count()\n",
    "most_popular_films = most_popular_films.sort(most_popular_films['count'].desc()).take(5)"
   ]
  },
  {
   "cell_type": "code",
   "execution_count": 290,
   "id": "fe627387",
   "metadata": {},
   "outputs": [],
   "source": [
    "most_not_popular_films = merge_df_movies.groupBy('movie_title').count()\n",
    "most_not_popular_films = most_not_popular_films.sort(most_not_popular_films['count'].asc()).take(5)"
   ]
  },
  {
   "cell_type": "code",
   "execution_count": 289,
   "id": "683bac5e",
   "metadata": {},
   "outputs": [],
   "source": []
  },
  {
   "cell_type": "code",
   "execution_count": null,
   "id": "3b731644",
   "metadata": {},
   "outputs": [],
   "source": []
  }
 ],
 "metadata": {
  "kernelspec": {
   "display_name": "Python 3 (ipykernel)",
   "language": "python",
   "name": "python3"
  },
  "language_info": {
   "codemirror_mode": {
    "name": "ipython",
    "version": 3
   },
   "file_extension": ".py",
   "mimetype": "text/x-python",
   "name": "python",
   "nbconvert_exporter": "python",
   "pygments_lexer": "ipython3",
   "version": "3.10.5"
  }
 },
 "nbformat": 4,
 "nbformat_minor": 5
}
