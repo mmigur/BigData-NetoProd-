{
 "cells": [
  {
   "cell_type": "code",
   "execution_count": 225,
   "id": "ca8df7f2",
   "metadata": {},
   "outputs": [],
   "source": [
    "import pyspark\n",
    "from pyspark.sql import SparkSession\n",
    "import numpy as np"
   ]
  },
  {
   "cell_type": "code",
   "execution_count": 226,
   "id": "505295d3",
   "metadata": {},
   "outputs": [],
   "source": [
    "spark = SparkSession.builder.master('local[*]').getOrCreate()\n",
    "sc = spark.sparkContext"
   ]
  },
  {
   "cell_type": "markdown",
   "id": "2ec3fb8d",
   "metadata": {},
   "source": [
    "## PySpark Part 2"
   ]
  },
  {
   "cell_type": "code",
   "execution_count": 227,
   "id": "ac0cbb82",
   "metadata": {},
   "outputs": [
    {
     "name": "stdout",
     "output_type": "stream",
     "text": [
      "--2023-02-16 01:28:02--  https://raw.githubusercontent.com/datasciencedojo/datasets/master/titanic.csv\n",
      "Resolving raw.githubusercontent.com (raw.githubusercontent.com)... 185.199.108.133, 185.199.109.133, 185.199.110.133, ...\n",
      "Connecting to raw.githubusercontent.com (raw.githubusercontent.com)|185.199.108.133|:443... connected.\n",
      "HTTP request sent, awaiting response... 200 OK\n",
      "Length: 60302 (59K) [text/plain]\n",
      "Saving to: ‘titanic.csv.2’\n",
      "\n",
      "titanic.csv.2       100%[===================>]  58,89K  --.-KB/s    in 0,1s    \n",
      "\n",
      "2023-02-16 01:28:03 (616 KB/s) - ‘titanic.csv.2’ saved [60302/60302]\n",
      "\n"
     ]
    }
   ],
   "source": [
    "!wget https://raw.githubusercontent.com/datasciencedojo/datasets/master/titanic.csv"
   ]
  },
  {
   "cell_type": "code",
   "execution_count": 228,
   "id": "490adab0",
   "metadata": {},
   "outputs": [],
   "source": [
    "df = spark.read.csv('./titanic.csv', inferSchema=True, header=True)"
   ]
  },
  {
   "cell_type": "code",
   "execution_count": 229,
   "id": "d32fdf51",
   "metadata": {},
   "outputs": [
    {
     "name": "stdout",
     "output_type": "stream",
     "text": [
      "+-----------+--------+------+--------------------+------+----+-----+-----+----------------+-------+-----+--------+\n",
      "|PassengerId|Survived|Pclass|                Name|   Sex| Age|SibSp|Parch|          Ticket|   Fare|Cabin|Embarked|\n",
      "+-----------+--------+------+--------------------+------+----+-----+-----+----------------+-------+-----+--------+\n",
      "|          1|       0|     3|Braund, Mr. Owen ...|  male|22.0|    1|    0|       A/5 21171|   7.25| null|       S|\n",
      "|          2|       1|     1|Cumings, Mrs. Joh...|female|38.0|    1|    0|        PC 17599|71.2833|  C85|       C|\n",
      "|          3|       1|     3|Heikkinen, Miss. ...|female|26.0|    0|    0|STON/O2. 3101282|  7.925| null|       S|\n",
      "|          4|       1|     1|Futrelle, Mrs. Ja...|female|35.0|    1|    0|          113803|   53.1| C123|       S|\n",
      "|          5|       0|     3|Allen, Mr. Willia...|  male|35.0|    0|    0|          373450|   8.05| null|       S|\n",
      "|          6|       0|     3|    Moran, Mr. James|  male|null|    0|    0|          330877| 8.4583| null|       Q|\n",
      "|          7|       0|     1|McCarthy, Mr. Tim...|  male|54.0|    0|    0|           17463|51.8625|  E46|       S|\n",
      "|          8|       0|     3|Palsson, Master. ...|  male| 2.0|    3|    1|          349909| 21.075| null|       S|\n",
      "|          9|       1|     3|Johnson, Mrs. Osc...|female|27.0|    0|    2|          347742|11.1333| null|       S|\n",
      "|         10|       1|     2|Nasser, Mrs. Nich...|female|14.0|    1|    0|          237736|30.0708| null|       C|\n",
      "+-----------+--------+------+--------------------+------+----+-----+-----+----------------+-------+-----+--------+\n",
      "only showing top 10 rows\n",
      "\n"
     ]
    }
   ],
   "source": [
    "df.show(10)"
   ]
  },
  {
   "cell_type": "markdown",
   "id": "9aebdedf",
   "metadata": {},
   "source": [
    "### Удалим ненужные коллонки"
   ]
  },
  {
   "cell_type": "code",
   "execution_count": 230,
   "id": "4676af07",
   "metadata": {},
   "outputs": [
    {
     "data": {
      "text/plain": [
       "['PassengerId',\n",
       " 'Survived',\n",
       " 'Pclass',\n",
       " 'Name',\n",
       " 'Sex',\n",
       " 'Age',\n",
       " 'SibSp',\n",
       " 'Parch',\n",
       " 'Ticket',\n",
       " 'Fare',\n",
       " 'Cabin',\n",
       " 'Embarked']"
      ]
     },
     "execution_count": 230,
     "metadata": {},
     "output_type": "execute_result"
    }
   ],
   "source": [
    "df.columns"
   ]
  },
  {
   "cell_type": "code",
   "execution_count": 231,
   "id": "0da88f23",
   "metadata": {},
   "outputs": [],
   "source": [
    "df_filtered = df.select('Survived', 'Pclass', 'Sex', 'Age', 'Fare', 'Embarked')"
   ]
  },
  {
   "cell_type": "code",
   "execution_count": 232,
   "id": "8869d7cd",
   "metadata": {},
   "outputs": [
    {
     "name": "stdout",
     "output_type": "stream",
     "text": [
      "+--------+------+------+----+-------+--------+\n",
      "|Survived|Pclass|   Sex| Age|   Fare|Embarked|\n",
      "+--------+------+------+----+-------+--------+\n",
      "|       0|     3|  male|22.0|   7.25|       S|\n",
      "|       1|     1|female|38.0|71.2833|       C|\n",
      "|       1|     3|female|26.0|  7.925|       S|\n",
      "|       1|     1|female|35.0|   53.1|       S|\n",
      "|       0|     3|  male|35.0|   8.05|       S|\n",
      "+--------+------+------+----+-------+--------+\n",
      "only showing top 5 rows\n",
      "\n"
     ]
    }
   ],
   "source": [
    "df_filtered.show(5)"
   ]
  },
  {
   "cell_type": "markdown",
   "id": "834e5ea1",
   "metadata": {},
   "source": [
    "## колонки Age и Embarked содержат пропуски"
   ]
  },
  {
   "cell_type": "code",
   "execution_count": 233,
   "id": "10600a64",
   "metadata": {},
   "outputs": [
    {
     "name": "stdout",
     "output_type": "stream",
     "text": [
      "+--------+-----+\n",
      "|Embarked|count|\n",
      "+--------+-----+\n",
      "|       Q|   77|\n",
      "|    null|    2|\n",
      "|       C|  168|\n",
      "|       S|  644|\n",
      "+--------+-----+\n",
      "\n"
     ]
    }
   ],
   "source": [
    "df_filtered.groupBy('Embarked').count().show()"
   ]
  },
  {
   "cell_type": "code",
   "execution_count": 234,
   "id": "e05b0687",
   "metadata": {},
   "outputs": [
    {
     "name": "stdout",
     "output_type": "stream",
     "text": [
      "+-------+-------------------+------------------+------+------------------+-----------------+--------+\n",
      "|summary|           Survived|            Pclass|   Sex|               Age|             Fare|Embarked|\n",
      "+-------+-------------------+------------------+------+------------------+-----------------+--------+\n",
      "|  count|                891|               891|   891|               714|              891|     889|\n",
      "|   mean| 0.3838383838383838| 2.308641975308642|  null| 29.69911764705882| 32.2042079685746|    null|\n",
      "| stddev|0.48659245426485753|0.8360712409770491|  null|14.526497332334035|49.69342859718089|    null|\n",
      "|    min|                  0|                 1|female|              0.42|              0.0|       C|\n",
      "|    max|                  1|                 3|  male|              80.0|         512.3292|       S|\n",
      "+-------+-------------------+------------------+------+------------------+-----------------+--------+\n",
      "\n"
     ]
    }
   ],
   "source": [
    "df_filtered.describe().show()"
   ]
  },
  {
   "cell_type": "code",
   "execution_count": 235,
   "id": "9957765b",
   "metadata": {},
   "outputs": [],
   "source": [
    "df_filtered = df_filtered.na.fill({'Age': 29, 'Embarked': 'S'})"
   ]
  },
  {
   "cell_type": "markdown",
   "id": "b2d94917",
   "metadata": {},
   "source": [
    "## Преобразовываем колонку Sex в числа, а колонку Embarked закодируем по принципу OneHot"
   ]
  },
  {
   "cell_type": "code",
   "execution_count": 236,
   "id": "2d7df43f",
   "metadata": {},
   "outputs": [],
   "source": [
    "from pyspark.ml.feature import StringIndexer, OneHotEncoder\n",
    "from pyspark.ml.feature import VectorAssembler"
   ]
  },
  {
   "cell_type": "code",
   "execution_count": 237,
   "id": "0fabf242",
   "metadata": {},
   "outputs": [],
   "source": [
    "indexer = StringIndexer(inputCol='Sex', outputCol='SexInd')\n",
    "indexer_train = indexer.fit(df_filtered)\n",
    "df_features = indexer_train.transform(df_filtered)"
   ]
  },
  {
   "cell_type": "code",
   "execution_count": 238,
   "id": "fd4155f7",
   "metadata": {},
   "outputs": [
    {
     "data": {
      "text/plain": [
       "['male', 'female']"
      ]
     },
     "execution_count": 238,
     "metadata": {},
     "output_type": "execute_result"
    }
   ],
   "source": [
    "indexer_train.labels"
   ]
  },
  {
   "cell_type": "code",
   "execution_count": 239,
   "id": "96ce9e30",
   "metadata": {},
   "outputs": [
    {
     "name": "stdout",
     "output_type": "stream",
     "text": [
      "+--------+------+------+----+-------+--------+------+\n",
      "|Survived|Pclass|   Sex| Age|   Fare|Embarked|SexInd|\n",
      "+--------+------+------+----+-------+--------+------+\n",
      "|       0|     3|  male|22.0|   7.25|       S|   0.0|\n",
      "|       1|     1|female|38.0|71.2833|       C|   1.0|\n",
      "|       1|     3|female|26.0|  7.925|       S|   1.0|\n",
      "|       1|     1|female|35.0|   53.1|       S|   1.0|\n",
      "|       0|     3|  male|35.0|   8.05|       S|   0.0|\n",
      "|       0|     3|  male|29.0| 8.4583|       Q|   0.0|\n",
      "|       0|     1|  male|54.0|51.8625|       S|   0.0|\n",
      "|       0|     3|  male| 2.0| 21.075|       S|   0.0|\n",
      "|       1|     3|female|27.0|11.1333|       S|   1.0|\n",
      "|       1|     2|female|14.0|30.0708|       C|   1.0|\n",
      "|       1|     3|female| 4.0|   16.7|       S|   1.0|\n",
      "|       1|     1|female|58.0|  26.55|       S|   1.0|\n",
      "|       0|     3|  male|20.0|   8.05|       S|   0.0|\n",
      "|       0|     3|  male|39.0| 31.275|       S|   0.0|\n",
      "|       0|     3|female|14.0| 7.8542|       S|   1.0|\n",
      "|       1|     2|female|55.0|   16.0|       S|   1.0|\n",
      "|       0|     3|  male| 2.0| 29.125|       Q|   0.0|\n",
      "|       1|     2|  male|29.0|   13.0|       S|   0.0|\n",
      "|       0|     3|female|31.0|   18.0|       S|   1.0|\n",
      "|       1|     3|female|29.0|  7.225|       C|   1.0|\n",
      "+--------+------+------+----+-------+--------+------+\n",
      "only showing top 20 rows\n",
      "\n"
     ]
    }
   ],
   "source": [
    "df_features.show()"
   ]
  },
  {
   "cell_type": "code",
   "execution_count": 240,
   "id": "29b2151e",
   "metadata": {},
   "outputs": [],
   "source": [
    "indexer = StringIndexer(inputCol='Embarked', outputCol='EmbarkedInd')\n",
    "indexer_train = indexer.fit(df_features)\n",
    "df_features = indexer_train.transform(df_features)"
   ]
  },
  {
   "cell_type": "code",
   "execution_count": 241,
   "id": "e608e060",
   "metadata": {},
   "outputs": [
    {
     "name": "stdout",
     "output_type": "stream",
     "text": [
      "+--------+------+------+----+-------+--------+------+-----------+\n",
      "|Survived|Pclass|   Sex| Age|   Fare|Embarked|SexInd|EmbarkedInd|\n",
      "+--------+------+------+----+-------+--------+------+-----------+\n",
      "|       0|     3|  male|22.0|   7.25|       S|   0.0|        0.0|\n",
      "|       1|     1|female|38.0|71.2833|       C|   1.0|        1.0|\n",
      "|       1|     3|female|26.0|  7.925|       S|   1.0|        0.0|\n",
      "|       1|     1|female|35.0|   53.1|       S|   1.0|        0.0|\n",
      "|       0|     3|  male|35.0|   8.05|       S|   0.0|        0.0|\n",
      "|       0|     3|  male|29.0| 8.4583|       Q|   0.0|        2.0|\n",
      "|       0|     1|  male|54.0|51.8625|       S|   0.0|        0.0|\n",
      "|       0|     3|  male| 2.0| 21.075|       S|   0.0|        0.0|\n",
      "|       1|     3|female|27.0|11.1333|       S|   1.0|        0.0|\n",
      "|       1|     2|female|14.0|30.0708|       C|   1.0|        1.0|\n",
      "|       1|     3|female| 4.0|   16.7|       S|   1.0|        0.0|\n",
      "|       1|     1|female|58.0|  26.55|       S|   1.0|        0.0|\n",
      "|       0|     3|  male|20.0|   8.05|       S|   0.0|        0.0|\n",
      "|       0|     3|  male|39.0| 31.275|       S|   0.0|        0.0|\n",
      "|       0|     3|female|14.0| 7.8542|       S|   1.0|        0.0|\n",
      "|       1|     2|female|55.0|   16.0|       S|   1.0|        0.0|\n",
      "|       0|     3|  male| 2.0| 29.125|       Q|   0.0|        2.0|\n",
      "|       1|     2|  male|29.0|   13.0|       S|   0.0|        0.0|\n",
      "|       0|     3|female|31.0|   18.0|       S|   1.0|        0.0|\n",
      "|       1|     3|female|29.0|  7.225|       C|   1.0|        1.0|\n",
      "+--------+------+------+----+-------+--------+------+-----------+\n",
      "only showing top 20 rows\n",
      "\n"
     ]
    }
   ],
   "source": [
    "df_features.show()"
   ]
  },
  {
   "cell_type": "code",
   "execution_count": 242,
   "id": "d6544647",
   "metadata": {},
   "outputs": [],
   "source": [
    "OHE = OneHotEncoder(inputCol='EmbarkedInd', outputCol='EmbarkedOHE')\n",
    "OHE_train = OHE.fit(df_features)"
   ]
  },
  {
   "cell_type": "code",
   "execution_count": 243,
   "id": "618278f6",
   "metadata": {},
   "outputs": [],
   "source": [
    "df_features = OHE_train.transform(df_features)"
   ]
  },
  {
   "cell_type": "code",
   "execution_count": 244,
   "id": "32a689bb",
   "metadata": {},
   "outputs": [
    {
     "name": "stdout",
     "output_type": "stream",
     "text": [
      "+--------+------+------+----+-------+--------+------+-----------+-------------+\n",
      "|Survived|Pclass|   Sex| Age|   Fare|Embarked|SexInd|EmbarkedInd|  EmbarkedOHE|\n",
      "+--------+------+------+----+-------+--------+------+-----------+-------------+\n",
      "|       0|     3|  male|22.0|   7.25|       S|   0.0|        0.0|(2,[0],[1.0])|\n",
      "|       1|     1|female|38.0|71.2833|       C|   1.0|        1.0|(2,[1],[1.0])|\n",
      "|       1|     3|female|26.0|  7.925|       S|   1.0|        0.0|(2,[0],[1.0])|\n",
      "|       1|     1|female|35.0|   53.1|       S|   1.0|        0.0|(2,[0],[1.0])|\n",
      "|       0|     3|  male|35.0|   8.05|       S|   0.0|        0.0|(2,[0],[1.0])|\n",
      "|       0|     3|  male|29.0| 8.4583|       Q|   0.0|        2.0|    (2,[],[])|\n",
      "|       0|     1|  male|54.0|51.8625|       S|   0.0|        0.0|(2,[0],[1.0])|\n",
      "|       0|     3|  male| 2.0| 21.075|       S|   0.0|        0.0|(2,[0],[1.0])|\n",
      "|       1|     3|female|27.0|11.1333|       S|   1.0|        0.0|(2,[0],[1.0])|\n",
      "|       1|     2|female|14.0|30.0708|       C|   1.0|        1.0|(2,[1],[1.0])|\n",
      "+--------+------+------+----+-------+--------+------+-----------+-------------+\n",
      "only showing top 10 rows\n",
      "\n"
     ]
    }
   ],
   "source": [
    "df_features.show(10)"
   ]
  },
  {
   "cell_type": "code",
   "execution_count": 245,
   "id": "81050e17",
   "metadata": {},
   "outputs": [
    {
     "data": {
      "text/plain": [
       "['Survived',\n",
       " 'Pclass',\n",
       " 'Sex',\n",
       " 'Age',\n",
       " 'Fare',\n",
       " 'Embarked',\n",
       " 'SexInd',\n",
       " 'EmbarkedInd',\n",
       " 'EmbarkedOHE']"
      ]
     },
     "execution_count": 245,
     "metadata": {},
     "output_type": "execute_result"
    }
   ],
   "source": [
    "df_features.columns"
   ]
  },
  {
   "cell_type": "code",
   "execution_count": 246,
   "id": "bddf83d8",
   "metadata": {},
   "outputs": [],
   "source": [
    "vecAssembler_cols = [\n",
    "     'Pclass',\n",
    "     'Age',\n",
    "     'Fare',\n",
    "     'SexInd',\n",
    "     'EmbarkedOHE'\n",
    "]\n",
    "\n",
    "vecAssembler = VectorAssembler(inputCols=vecAssembler_cols, outputCol='vecAssembler_col')\n",
    "df_features = vecAssembler.transform(df_features)"
   ]
  },
  {
   "cell_type": "code",
   "execution_count": 247,
   "id": "0e3bfb89",
   "metadata": {},
   "outputs": [],
   "source": [
    "from pyspark.ml import Pipeline"
   ]
  },
  {
   "cell_type": "code",
   "execution_count": 248,
   "id": "9205aeab",
   "metadata": {},
   "outputs": [],
   "source": [
    "pipeline = Pipeline(stages = [\n",
    "    StringIndexer(inputCol='Sex', outputCol='SexInd'),\n",
    "    StringIndexer(inputCol='Embarked', outputCol='EmbarkedInd'),\n",
    "    OneHotEncoder(inputCol='EmbarkedInd', outputCol='EmbarkedOHE'),\n",
    "    VectorAssembler(inputCols=vecAssembler_cols, outputCol='vecAssembler_col')\n",
    "])"
   ]
  },
  {
   "cell_type": "code",
   "execution_count": 250,
   "id": "ceae912f",
   "metadata": {},
   "outputs": [],
   "source": [
    "pipeline_train = pipeline.fit(df_filtered)"
   ]
  },
  {
   "cell_type": "code",
   "execution_count": 251,
   "id": "7b3211f1",
   "metadata": {},
   "outputs": [
    {
     "name": "stdout",
     "output_type": "stream",
     "text": [
      "+--------+------+------+----+-------+--------+------+-----------+-------------+--------------------+\n",
      "|Survived|Pclass|   Sex| Age|   Fare|Embarked|SexInd|EmbarkedInd|  EmbarkedOHE|    vecAssembler_col|\n",
      "+--------+------+------+----+-------+--------+------+-----------+-------------+--------------------+\n",
      "|       0|     3|  male|22.0|   7.25|       S|   0.0|        0.0|(2,[0],[1.0])|[3.0,22.0,7.25,0....|\n",
      "|       1|     1|female|38.0|71.2833|       C|   1.0|        1.0|(2,[1],[1.0])|[1.0,38.0,71.2833...|\n",
      "|       1|     3|female|26.0|  7.925|       S|   1.0|        0.0|(2,[0],[1.0])|[3.0,26.0,7.925,1...|\n",
      "|       1|     1|female|35.0|   53.1|       S|   1.0|        0.0|(2,[0],[1.0])|[1.0,35.0,53.1,1....|\n",
      "|       0|     3|  male|35.0|   8.05|       S|   0.0|        0.0|(2,[0],[1.0])|[3.0,35.0,8.05,0....|\n",
      "|       0|     3|  male|29.0| 8.4583|       Q|   0.0|        2.0|    (2,[],[])|[3.0,29.0,8.4583,...|\n",
      "|       0|     1|  male|54.0|51.8625|       S|   0.0|        0.0|(2,[0],[1.0])|[1.0,54.0,51.8625...|\n",
      "|       0|     3|  male| 2.0| 21.075|       S|   0.0|        0.0|(2,[0],[1.0])|[3.0,2.0,21.075,0...|\n",
      "|       1|     3|female|27.0|11.1333|       S|   1.0|        0.0|(2,[0],[1.0])|[3.0,27.0,11.1333...|\n",
      "|       1|     2|female|14.0|30.0708|       C|   1.0|        1.0|(2,[1],[1.0])|[2.0,14.0,30.0708...|\n",
      "|       1|     3|female| 4.0|   16.7|       S|   1.0|        0.0|(2,[0],[1.0])|[3.0,4.0,16.7,1.0...|\n",
      "|       1|     1|female|58.0|  26.55|       S|   1.0|        0.0|(2,[0],[1.0])|[1.0,58.0,26.55,1...|\n",
      "|       0|     3|  male|20.0|   8.05|       S|   0.0|        0.0|(2,[0],[1.0])|[3.0,20.0,8.05,0....|\n",
      "|       0|     3|  male|39.0| 31.275|       S|   0.0|        0.0|(2,[0],[1.0])|[3.0,39.0,31.275,...|\n",
      "|       0|     3|female|14.0| 7.8542|       S|   1.0|        0.0|(2,[0],[1.0])|[3.0,14.0,7.8542,...|\n",
      "|       1|     2|female|55.0|   16.0|       S|   1.0|        0.0|(2,[0],[1.0])|[2.0,55.0,16.0,1....|\n",
      "|       0|     3|  male| 2.0| 29.125|       Q|   0.0|        2.0|    (2,[],[])|[3.0,2.0,29.125,0...|\n",
      "|       1|     2|  male|29.0|   13.0|       S|   0.0|        0.0|(2,[0],[1.0])|[2.0,29.0,13.0,0....|\n",
      "|       0|     3|female|31.0|   18.0|       S|   1.0|        0.0|(2,[0],[1.0])|[3.0,31.0,18.0,1....|\n",
      "|       1|     3|female|29.0|  7.225|       C|   1.0|        1.0|(2,[1],[1.0])|[3.0,29.0,7.225,1...|\n",
      "+--------+------+------+----+-------+--------+------+-----------+-------------+--------------------+\n",
      "only showing top 20 rows\n",
      "\n"
     ]
    }
   ],
   "source": [
    "pipeline_train.transform(df_filtered).show()"
   ]
  },
  {
   "cell_type": "markdown",
   "id": "f46d66ae",
   "metadata": {},
   "source": [
    "## test / train split"
   ]
  },
  {
   "cell_type": "code",
   "execution_count": 253,
   "id": "44f27457",
   "metadata": {},
   "outputs": [],
   "source": [
    "train, test = df_features.randomSplit([0.8, 0.2], seed=42)"
   ]
  },
  {
   "cell_type": "code",
   "execution_count": 254,
   "id": "cee7d7b4",
   "metadata": {},
   "outputs": [
    {
     "name": "stdout",
     "output_type": "stream",
     "text": [
      "+--------+------+------+----+------+--------+------+-----------+-------------+--------------------+\n",
      "|Survived|Pclass|   Sex| Age|  Fare|Embarked|SexInd|EmbarkedInd|  EmbarkedOHE|    vecAssembler_col|\n",
      "+--------+------+------+----+------+--------+------+-----------+-------------+--------------------+\n",
      "|       0|     1|female| 2.0|151.55|       S|   1.0|        0.0|(2,[0],[1.0])|[1.0,2.0,151.55,1...|\n",
      "|       0|     1|female|25.0|151.55|       S|   1.0|        0.0|(2,[0],[1.0])|[1.0,25.0,151.55,...|\n",
      "|       0|     1|  male|18.0| 108.9|       C|   0.0|        1.0|(2,[1],[1.0])|[1.0,18.0,108.9,0...|\n",
      "|       0|     1|  male|19.0|  53.1|       S|   0.0|        0.0|(2,[0],[1.0])|[1.0,19.0,53.1,0....|\n",
      "|       0|     1|  male|19.0| 263.0|       S|   0.0|        0.0|(2,[0],[1.0])|[1.0,19.0,263.0,0...|\n",
      "+--------+------+------+----+------+--------+------+-----------+-------------+--------------------+\n",
      "only showing top 5 rows\n",
      "\n"
     ]
    }
   ],
   "source": [
    "train.show(5)"
   ]
  },
  {
   "cell_type": "markdown",
   "id": "d65fc13b",
   "metadata": {},
   "source": [
    "## Log Reg"
   ]
  },
  {
   "cell_type": "code",
   "execution_count": 255,
   "id": "25f33ffe",
   "metadata": {},
   "outputs": [],
   "source": [
    "from pyspark.ml.classification import LogisticRegression"
   ]
  },
  {
   "cell_type": "code",
   "execution_count": 260,
   "id": "9bdd1766",
   "metadata": {},
   "outputs": [],
   "source": [
    "lr = LogisticRegression(featuresCol='vecAssembler_col', labelCol='Survived')"
   ]
  },
  {
   "cell_type": "code",
   "execution_count": 261,
   "id": "5b9b394d",
   "metadata": {},
   "outputs": [
    {
     "name": "stdout",
     "output_type": "stream",
     "text": [
      "23/02/16 01:37:02 WARN InstanceBuilder$NativeBLAS: Failed to load implementation from:dev.ludovic.netlib.blas.JNIBLAS\n",
      "23/02/16 01:37:02 WARN InstanceBuilder$NativeBLAS: Failed to load implementation from:dev.ludovic.netlib.blas.ForeignLinkerBLAS\n"
     ]
    }
   ],
   "source": [
    "lr_model = lr.fit(train)"
   ]
  },
  {
   "cell_type": "code",
   "execution_count": 263,
   "id": "5c74a3bd",
   "metadata": {},
   "outputs": [],
   "source": [
    "train_result = lr_model.transform(train)\n",
    "test_result = lr_model.transform(test)"
   ]
  },
  {
   "cell_type": "code",
   "execution_count": 268,
   "id": "3f7c54e6",
   "metadata": {},
   "outputs": [
    {
     "name": "stdout",
     "output_type": "stream",
     "text": [
      "+--------------------+--------------------+----------+\n",
      "|       rawPrediction|         probability|prediction|\n",
      "+--------------------+--------------------+----------+\n",
      "|[-3.2770503739718...|[0.03636694297313...|       1.0|\n",
      "|[-2.4634326447022...|[0.07846177856536...|       1.0|\n",
      "|[-0.8425146749117...|[0.30100542886346...|       1.0|\n",
      "|[-0.2792317510571...|[0.43064213257868...|       1.0|\n",
      "|[-0.0805599876783...|[0.47987088824941...|       1.0|\n",
      "|[-0.6757126909257...|[0.33721885629452...|       1.0|\n",
      "|[-0.4990610510095...|[0.37776135065493...|       1.0|\n",
      "|[-0.4270309291146...|[0.39483554069659...|       1.0|\n",
      "|[0.03346136347293...|[0.50836456042550...|       0.0|\n",
      "|[-0.5140672038821...|[0.37424056304724...|       1.0|\n",
      "|[0.02425558020251...|[0.50606359776890...|       0.0|\n",
      "|[0.04879376727062...|[0.51219602219062...|       0.0|\n",
      "|[0.04886475527564...|[0.51221375861754...|       0.0|\n",
      "|[0.04938533397911...|[0.51234382480569...|       0.0|\n",
      "|[-0.5302298116443...|[0.37046328971025...|       1.0|\n",
      "|[0.05265078220996...|[0.51315965569746...|       0.0|\n",
      "|[-0.5274139541119...|[0.37112024387619...|       1.0|\n",
      "|[0.05359728894355...|[0.51339611550517...|       0.0|\n",
      "|[-0.5189860688548...|[0.37308935524918...|       1.0|\n",
      "|[0.06438746570638...|[0.51609130760484...|       0.0|\n",
      "+--------------------+--------------------+----------+\n",
      "only showing top 20 rows\n",
      "\n"
     ]
    }
   ],
   "source": [
    "train_result[['rawPrediction', 'probability', 'prediction']].show()"
   ]
  },
  {
   "cell_type": "markdown",
   "id": "3e929409",
   "metadata": {},
   "source": [
    "## Оценка качества"
   ]
  },
  {
   "cell_type": "code",
   "execution_count": 269,
   "id": "eeff53c6",
   "metadata": {},
   "outputs": [],
   "source": [
    "from pyspark.ml.evaluation import BinaryClassificationEvaluator"
   ]
  },
  {
   "cell_type": "code",
   "execution_count": 270,
   "id": "52817e5c",
   "metadata": {},
   "outputs": [],
   "source": [
    "ev = BinaryClassificationEvaluator(labelCol='Survived')"
   ]
  },
  {
   "cell_type": "code",
   "execution_count": 271,
   "id": "19358262",
   "metadata": {},
   "outputs": [
    {
     "data": {
      "text/plain": [
       "(0.8499827803926061, 0.8613387978142075)"
      ]
     },
     "execution_count": 271,
     "metadata": {},
     "output_type": "execute_result"
    }
   ],
   "source": [
    "ev.evaluate(train_result), ev.evaluate(test_result)"
   ]
  },
  {
   "cell_type": "code",
   "execution_count": null,
   "id": "75f208b9",
   "metadata": {},
   "outputs": [],
   "source": []
  }
 ],
 "metadata": {
  "kernelspec": {
   "display_name": "Python 3 (ipykernel)",
   "language": "python",
   "name": "python3"
  },
  "language_info": {
   "codemirror_mode": {
    "name": "ipython",
    "version": 3
   },
   "file_extension": ".py",
   "mimetype": "text/x-python",
   "name": "python",
   "nbconvert_exporter": "python",
   "pygments_lexer": "ipython3",
   "version": "3.10.5"
  }
 },
 "nbformat": 4,
 "nbformat_minor": 5
}
